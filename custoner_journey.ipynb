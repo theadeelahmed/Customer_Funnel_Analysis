{
 "cells": [
  {
   "cell_type": "code",
   "execution_count": 1,
   "id": "63d31ace-0194-4084-912b-1c91f913203e",
   "metadata": {},
   "outputs": [],
   "source": [
    "import pandas as pd \n",
    "import matplotlib.pyplot as plt "
   ]
  },
  {
   "cell_type": "code",
   "execution_count": 2,
   "id": "f60b3cdd-b360-4dcb-b6e8-84e6c6337a76",
   "metadata": {},
   "outputs": [],
   "source": [
    "customer_journey_df= pd.read_excel(\"customer_journey.xlsx\")"
   ]
  },
  {
   "cell_type": "code",
   "execution_count": 3,
   "id": "f8f9436f-5d9f-43b7-9c17-57bdf3f75fad",
   "metadata": {},
   "outputs": [
    {
     "data": {
      "text/html": [
       "<div>\n",
       "<style scoped>\n",
       "    .dataframe tbody tr th:only-of-type {\n",
       "        vertical-align: middle;\n",
       "    }\n",
       "\n",
       "    .dataframe tbody tr th {\n",
       "        vertical-align: top;\n",
       "    }\n",
       "\n",
       "    .dataframe thead th {\n",
       "        text-align: right;\n",
       "    }\n",
       "</style>\n",
       "<table border=\"1\" class=\"dataframe\">\n",
       "  <thead>\n",
       "    <tr style=\"text-align: right;\">\n",
       "      <th></th>\n",
       "      <th>JourneyID</th>\n",
       "      <th>CustomerID</th>\n",
       "      <th>ProductId</th>\n",
       "      <th>VisitDate</th>\n",
       "      <th>Stage</th>\n",
       "      <th>Action</th>\n",
       "      <th>Duration</th>\n",
       "    </tr>\n",
       "  </thead>\n",
       "  <tbody>\n",
       "    <tr>\n",
       "      <th>0</th>\n",
       "      <td>1</td>\n",
       "      <td>64</td>\n",
       "      <td>18</td>\n",
       "      <td>2024-06-10</td>\n",
       "      <td>Checkout</td>\n",
       "      <td>Drop-off</td>\n",
       "      <td>NaN</td>\n",
       "    </tr>\n",
       "    <tr>\n",
       "      <th>1</th>\n",
       "      <td>2</td>\n",
       "      <td>94</td>\n",
       "      <td>11</td>\n",
       "      <td>2025-07-09</td>\n",
       "      <td>Checkout</td>\n",
       "      <td>Drop-off</td>\n",
       "      <td>NaN</td>\n",
       "    </tr>\n",
       "    <tr>\n",
       "      <th>2</th>\n",
       "      <td>3</td>\n",
       "      <td>34</td>\n",
       "      <td>8</td>\n",
       "      <td>2024-06-14</td>\n",
       "      <td>ProductPage</td>\n",
       "      <td>View</td>\n",
       "      <td>235.0</td>\n",
       "    </tr>\n",
       "    <tr>\n",
       "      <th>3</th>\n",
       "      <td>4</td>\n",
       "      <td>33</td>\n",
       "      <td>18</td>\n",
       "      <td>2025-05-28</td>\n",
       "      <td>Checkout</td>\n",
       "      <td>Drop-off</td>\n",
       "      <td>NaN</td>\n",
       "    </tr>\n",
       "  </tbody>\n",
       "</table>\n",
       "</div>"
      ],
      "text/plain": [
       "   JourneyID  CustomerID  ProductId  VisitDate        Stage    Action  \\\n",
       "0          1          64         18 2024-06-10     Checkout  Drop-off   \n",
       "1          2          94         11 2025-07-09     Checkout  Drop-off   \n",
       "2          3          34          8 2024-06-14  ProductPage      View   \n",
       "3          4          33         18 2025-05-28     Checkout  Drop-off   \n",
       "\n",
       "   Duration  \n",
       "0       NaN  \n",
       "1       NaN  \n",
       "2     235.0  \n",
       "3       NaN  "
      ]
     },
     "execution_count": 3,
     "metadata": {},
     "output_type": "execute_result"
    }
   ],
   "source": [
    "customer_journey_df.head(4)"
   ]
  },
  {
   "cell_type": "code",
   "execution_count": 4,
   "id": "f6dbf524-3903-4b4d-902b-1b02db638a5c",
   "metadata": {},
   "outputs": [
    {
     "data": {
      "text/plain": [
       "JourneyID              int64\n",
       "CustomerID             int64\n",
       "ProductId              int64\n",
       "VisitDate     datetime64[ns]\n",
       "Stage                 object\n",
       "Action                object\n",
       "Duration             float64\n",
       "dtype: object"
      ]
     },
     "execution_count": 4,
     "metadata": {},
     "output_type": "execute_result"
    }
   ],
   "source": [
    "customer_journey_df.dtypes"
   ]
  },
  {
   "cell_type": "code",
   "execution_count": 5,
   "id": "6940e2c2-4fbb-4694-ae3a-c6d3e4d4a1ca",
   "metadata": {},
   "outputs": [
    {
     "data": {
      "text/plain": [
       "(4011, 7)"
      ]
     },
     "execution_count": 5,
     "metadata": {},
     "output_type": "execute_result"
    }
   ],
   "source": [
    "customer_journey_df.shape"
   ]
  },
  {
   "cell_type": "code",
   "execution_count": 6,
   "id": "cbc8c13b-ed2f-414b-b47a-e35c3762fa3d",
   "metadata": {},
   "outputs": [
    {
     "data": {
      "text/plain": [
       "71"
      ]
     },
     "execution_count": 6,
     "metadata": {},
     "output_type": "execute_result"
    }
   ],
   "source": [
    "customer_journey_df.duplicated().sum()"
   ]
  },
  {
   "cell_type": "code",
   "execution_count": 7,
   "id": "69e9f0dd-a5b2-422b-af42-e108864a0971",
   "metadata": {},
   "outputs": [
    {
     "data": {
      "text/html": [
       "<div>\n",
       "<style scoped>\n",
       "    .dataframe tbody tr th:only-of-type {\n",
       "        vertical-align: middle;\n",
       "    }\n",
       "\n",
       "    .dataframe tbody tr th {\n",
       "        vertical-align: top;\n",
       "    }\n",
       "\n",
       "    .dataframe thead th {\n",
       "        text-align: right;\n",
       "    }\n",
       "</style>\n",
       "<table border=\"1\" class=\"dataframe\">\n",
       "  <thead>\n",
       "    <tr style=\"text-align: right;\">\n",
       "      <th></th>\n",
       "      <th>JourneyID</th>\n",
       "      <th>CustomerID</th>\n",
       "      <th>ProductId</th>\n",
       "      <th>VisitDate</th>\n",
       "      <th>Stage</th>\n",
       "      <th>Action</th>\n",
       "      <th>Duration</th>\n",
       "    </tr>\n",
       "  </thead>\n",
       "  <tbody>\n",
       "    <tr>\n",
       "      <th>3993</th>\n",
       "      <td>23</td>\n",
       "      <td>58</td>\n",
       "      <td>1</td>\n",
       "      <td>2023-07-05</td>\n",
       "      <td>Homepage</td>\n",
       "      <td>View</td>\n",
       "      <td>48.0</td>\n",
       "    </tr>\n",
       "    <tr>\n",
       "      <th>3939</th>\n",
       "      <td>203</td>\n",
       "      <td>44</td>\n",
       "      <td>11</td>\n",
       "      <td>2024-12-28</td>\n",
       "      <td>Homepage</td>\n",
       "      <td>View</td>\n",
       "      <td>230.0</td>\n",
       "    </tr>\n",
       "    <tr>\n",
       "      <th>3940</th>\n",
       "      <td>404</td>\n",
       "      <td>30</td>\n",
       "      <td>13</td>\n",
       "      <td>2023-04-22</td>\n",
       "      <td>Homepage</td>\n",
       "      <td>View</td>\n",
       "      <td>112.0</td>\n",
       "    </tr>\n",
       "    <tr>\n",
       "      <th>3979</th>\n",
       "      <td>443</td>\n",
       "      <td>98</td>\n",
       "      <td>5</td>\n",
       "      <td>2023-09-04</td>\n",
       "      <td>Checkout</td>\n",
       "      <td>Drop-off</td>\n",
       "      <td>NaN</td>\n",
       "    </tr>\n",
       "    <tr>\n",
       "      <th>3995</th>\n",
       "      <td>494</td>\n",
       "      <td>29</td>\n",
       "      <td>6</td>\n",
       "      <td>2024-10-27</td>\n",
       "      <td>Checkout</td>\n",
       "      <td>Drop-off</td>\n",
       "      <td>NaN</td>\n",
       "    </tr>\n",
       "    <tr>\n",
       "      <th>...</th>\n",
       "      <td>...</td>\n",
       "      <td>...</td>\n",
       "      <td>...</td>\n",
       "      <td>...</td>\n",
       "      <td>...</td>\n",
       "      <td>...</td>\n",
       "      <td>...</td>\n",
       "    </tr>\n",
       "    <tr>\n",
       "      <th>3967</th>\n",
       "      <td>3781</td>\n",
       "      <td>54</td>\n",
       "      <td>8</td>\n",
       "      <td>2025-04-14</td>\n",
       "      <td>Homepage</td>\n",
       "      <td>View</td>\n",
       "      <td>250.0</td>\n",
       "    </tr>\n",
       "    <tr>\n",
       "      <th>3983</th>\n",
       "      <td>3852</td>\n",
       "      <td>99</td>\n",
       "      <td>5</td>\n",
       "      <td>2025-09-07</td>\n",
       "      <td>ProductPage</td>\n",
       "      <td>View</td>\n",
       "      <td>205.0</td>\n",
       "    </tr>\n",
       "    <tr>\n",
       "      <th>3941</th>\n",
       "      <td>3881</td>\n",
       "      <td>58</td>\n",
       "      <td>18</td>\n",
       "      <td>2024-08-27</td>\n",
       "      <td>Checkout</td>\n",
       "      <td>Drop-off</td>\n",
       "      <td>NaN</td>\n",
       "    </tr>\n",
       "    <tr>\n",
       "      <th>3938</th>\n",
       "      <td>3912</td>\n",
       "      <td>99</td>\n",
       "      <td>9</td>\n",
       "      <td>2025-06-13</td>\n",
       "      <td>Homepage</td>\n",
       "      <td>Click</td>\n",
       "      <td>143.0</td>\n",
       "    </tr>\n",
       "    <tr>\n",
       "      <th>3957</th>\n",
       "      <td>3930</td>\n",
       "      <td>2</td>\n",
       "      <td>9</td>\n",
       "      <td>2024-09-22</td>\n",
       "      <td>Homepage</td>\n",
       "      <td>Click</td>\n",
       "      <td>260.0</td>\n",
       "    </tr>\n",
       "  </tbody>\n",
       "</table>\n",
       "<p>71 rows × 7 columns</p>\n",
       "</div>"
      ],
      "text/plain": [
       "      JourneyID  CustomerID  ProductId  VisitDate        Stage    Action  \\\n",
       "3993         23          58          1 2023-07-05     Homepage      View   \n",
       "3939        203          44         11 2024-12-28     Homepage      View   \n",
       "3940        404          30         13 2023-04-22     Homepage      View   \n",
       "3979        443          98          5 2023-09-04     Checkout  Drop-off   \n",
       "3995        494          29          6 2024-10-27     Checkout  Drop-off   \n",
       "...         ...         ...        ...        ...          ...       ...   \n",
       "3967       3781          54          8 2025-04-14     Homepage      View   \n",
       "3983       3852          99          5 2025-09-07  ProductPage      View   \n",
       "3941       3881          58         18 2024-08-27     Checkout  Drop-off   \n",
       "3938       3912          99          9 2025-06-13     Homepage     Click   \n",
       "3957       3930           2          9 2024-09-22     Homepage     Click   \n",
       "\n",
       "      Duration  \n",
       "3993      48.0  \n",
       "3939     230.0  \n",
       "3940     112.0  \n",
       "3979       NaN  \n",
       "3995       NaN  \n",
       "...        ...  \n",
       "3967     250.0  \n",
       "3983     205.0  \n",
       "3941       NaN  \n",
       "3938     143.0  \n",
       "3957     260.0  \n",
       "\n",
       "[71 rows x 7 columns]"
      ]
     },
     "execution_count": 7,
     "metadata": {},
     "output_type": "execute_result"
    }
   ],
   "source": [
    "customer_journey_df[customer_journey_df.duplicated()].sort_values(by=\"JourneyID\")"
   ]
  },
  {
   "cell_type": "code",
   "execution_count": 8,
   "id": "a464675b-6af7-461f-921e-83b0e299157b",
   "metadata": {},
   "outputs": [],
   "source": [
    "customer_journey_df.drop_duplicates(keep=\"first\", inplace=True)"
   ]
  },
  {
   "cell_type": "code",
   "execution_count": 9,
   "id": "d4abc83a-ae2a-4756-8c0c-46e1f48f1de6",
   "metadata": {},
   "outputs": [
    {
     "data": {
      "text/plain": [
       "JourneyID       0\n",
       "CustomerID      0\n",
       "ProductId       0\n",
       "VisitDate       0\n",
       "Stage           0\n",
       "Action          0\n",
       "Duration      599\n",
       "dtype: int64"
      ]
     },
     "execution_count": 9,
     "metadata": {},
     "output_type": "execute_result"
    }
   ],
   "source": [
    "customer_journey_df.isnull().sum()"
   ]
  },
  {
   "cell_type": "code",
   "execution_count": 10,
   "id": "625e8e86-9042-414a-a7c9-7fb20962743d",
   "metadata": {},
   "outputs": [
    {
     "data": {
      "text/plain": [
       "0       132.333333\n",
       "1       169.250000\n",
       "2       184.250000\n",
       "3        12.000000\n",
       "4       104.600000\n",
       "           ...    \n",
       "3984    147.000000\n",
       "3991    214.000000\n",
       "3997    162.000000\n",
       "4005    203.000000\n",
       "4007    141.250000\n",
       "Name: Duration, Length: 3940, dtype: float64"
      ]
     },
     "execution_count": 10,
     "metadata": {},
     "output_type": "execute_result"
    }
   ],
   "source": [
    "customer_journey_df.groupby(\"VisitDate\")[\"Duration\"].transform(\"mean\")"
   ]
  },
  {
   "cell_type": "code",
   "execution_count": 11,
   "id": "3eac2fc1-7382-4153-8694-627225ce14b5",
   "metadata": {},
   "outputs": [],
   "source": [
    "customer_journey_df['avg_duration'] = customer_journey_df.groupby('VisitDate')['Duration'].transform('mean')\n",
    "customer_journey_df['Duration'] = customer_journey_df['Duration'].fillna(customer_journey_df['avg_duration'])"
   ]
  },
  {
   "cell_type": "code",
   "execution_count": 12,
   "id": "8603b649-ad71-4754-918c-647429a15e94",
   "metadata": {},
   "outputs": [],
   "source": [
    "customer_journey_df['Stage'] = customer_journey_df['Stage'].str.upper()"
   ]
  },
  {
   "cell_type": "code",
   "execution_count": 13,
   "id": "dda558d8-ab42-4315-a125-09cc76dbeb71",
   "metadata": {},
   "outputs": [
    {
     "data": {
      "text/html": [
       "<div>\n",
       "<style scoped>\n",
       "    .dataframe tbody tr th:only-of-type {\n",
       "        vertical-align: middle;\n",
       "    }\n",
       "\n",
       "    .dataframe tbody tr th {\n",
       "        vertical-align: top;\n",
       "    }\n",
       "\n",
       "    .dataframe thead th {\n",
       "        text-align: right;\n",
       "    }\n",
       "</style>\n",
       "<table border=\"1\" class=\"dataframe\">\n",
       "  <thead>\n",
       "    <tr style=\"text-align: right;\">\n",
       "      <th></th>\n",
       "      <th>JourneyID</th>\n",
       "      <th>CustomerID</th>\n",
       "      <th>ProductId</th>\n",
       "      <th>VisitDate</th>\n",
       "      <th>Stage</th>\n",
       "      <th>Action</th>\n",
       "      <th>Duration</th>\n",
       "      <th>avg_duration</th>\n",
       "    </tr>\n",
       "  </thead>\n",
       "  <tbody>\n",
       "    <tr>\n",
       "      <th>0</th>\n",
       "      <td>1</td>\n",
       "      <td>64</td>\n",
       "      <td>18</td>\n",
       "      <td>2024-06-10</td>\n",
       "      <td>CHECKOUT</td>\n",
       "      <td>Drop-off</td>\n",
       "      <td>132.333333</td>\n",
       "      <td>132.333333</td>\n",
       "    </tr>\n",
       "    <tr>\n",
       "      <th>1</th>\n",
       "      <td>2</td>\n",
       "      <td>94</td>\n",
       "      <td>11</td>\n",
       "      <td>2025-07-09</td>\n",
       "      <td>CHECKOUT</td>\n",
       "      <td>Drop-off</td>\n",
       "      <td>169.250000</td>\n",
       "      <td>169.250000</td>\n",
       "    </tr>\n",
       "    <tr>\n",
       "      <th>2</th>\n",
       "      <td>3</td>\n",
       "      <td>34</td>\n",
       "      <td>8</td>\n",
       "      <td>2024-06-14</td>\n",
       "      <td>PRODUCTPAGE</td>\n",
       "      <td>View</td>\n",
       "      <td>235.000000</td>\n",
       "      <td>184.250000</td>\n",
       "    </tr>\n",
       "    <tr>\n",
       "      <th>3</th>\n",
       "      <td>4</td>\n",
       "      <td>33</td>\n",
       "      <td>18</td>\n",
       "      <td>2025-05-28</td>\n",
       "      <td>CHECKOUT</td>\n",
       "      <td>Drop-off</td>\n",
       "      <td>12.000000</td>\n",
       "      <td>12.000000</td>\n",
       "    </tr>\n",
       "    <tr>\n",
       "      <th>4</th>\n",
       "      <td>5</td>\n",
       "      <td>91</td>\n",
       "      <td>10</td>\n",
       "      <td>2023-02-11</td>\n",
       "      <td>HOMEPAGE</td>\n",
       "      <td>Click</td>\n",
       "      <td>156.000000</td>\n",
       "      <td>104.600000</td>\n",
       "    </tr>\n",
       "    <tr>\n",
       "      <th>...</th>\n",
       "      <td>...</td>\n",
       "      <td>...</td>\n",
       "      <td>...</td>\n",
       "      <td>...</td>\n",
       "      <td>...</td>\n",
       "      <td>...</td>\n",
       "      <td>...</td>\n",
       "      <td>...</td>\n",
       "    </tr>\n",
       "    <tr>\n",
       "      <th>3984</th>\n",
       "      <td>2655</td>\n",
       "      <td>84</td>\n",
       "      <td>4</td>\n",
       "      <td>2023-10-09</td>\n",
       "      <td>HOMEPAGE</td>\n",
       "      <td>View</td>\n",
       "      <td>146.000000</td>\n",
       "      <td>147.000000</td>\n",
       "    </tr>\n",
       "    <tr>\n",
       "      <th>3991</th>\n",
       "      <td>2653</td>\n",
       "      <td>86</td>\n",
       "      <td>2</td>\n",
       "      <td>2023-06-08</td>\n",
       "      <td>PRODUCTPAGE</td>\n",
       "      <td>Click</td>\n",
       "      <td>247.000000</td>\n",
       "      <td>214.000000</td>\n",
       "    </tr>\n",
       "    <tr>\n",
       "      <th>3997</th>\n",
       "      <td>97</td>\n",
       "      <td>92</td>\n",
       "      <td>19</td>\n",
       "      <td>2025-05-26</td>\n",
       "      <td>HOMEPAGE</td>\n",
       "      <td>View</td>\n",
       "      <td>203.000000</td>\n",
       "      <td>162.000000</td>\n",
       "    </tr>\n",
       "    <tr>\n",
       "      <th>4005</th>\n",
       "      <td>3531</td>\n",
       "      <td>70</td>\n",
       "      <td>5</td>\n",
       "      <td>2025-08-04</td>\n",
       "      <td>CHECKOUT</td>\n",
       "      <td>Drop-off</td>\n",
       "      <td>203.000000</td>\n",
       "      <td>203.000000</td>\n",
       "    </tr>\n",
       "    <tr>\n",
       "      <th>4007</th>\n",
       "      <td>1248</td>\n",
       "      <td>17</td>\n",
       "      <td>8</td>\n",
       "      <td>2023-12-13</td>\n",
       "      <td>HOMEPAGE</td>\n",
       "      <td>Click</td>\n",
       "      <td>153.000000</td>\n",
       "      <td>141.250000</td>\n",
       "    </tr>\n",
       "  </tbody>\n",
       "</table>\n",
       "<p>3940 rows × 8 columns</p>\n",
       "</div>"
      ],
      "text/plain": [
       "      JourneyID  CustomerID  ProductId  VisitDate        Stage    Action  \\\n",
       "0             1          64         18 2024-06-10     CHECKOUT  Drop-off   \n",
       "1             2          94         11 2025-07-09     CHECKOUT  Drop-off   \n",
       "2             3          34          8 2024-06-14  PRODUCTPAGE      View   \n",
       "3             4          33         18 2025-05-28     CHECKOUT  Drop-off   \n",
       "4             5          91         10 2023-02-11     HOMEPAGE     Click   \n",
       "...         ...         ...        ...        ...          ...       ...   \n",
       "3984       2655          84          4 2023-10-09     HOMEPAGE      View   \n",
       "3991       2653          86          2 2023-06-08  PRODUCTPAGE     Click   \n",
       "3997         97          92         19 2025-05-26     HOMEPAGE      View   \n",
       "4005       3531          70          5 2025-08-04     CHECKOUT  Drop-off   \n",
       "4007       1248          17          8 2023-12-13     HOMEPAGE     Click   \n",
       "\n",
       "        Duration  avg_duration  \n",
       "0     132.333333    132.333333  \n",
       "1     169.250000    169.250000  \n",
       "2     235.000000    184.250000  \n",
       "3      12.000000     12.000000  \n",
       "4     156.000000    104.600000  \n",
       "...          ...           ...  \n",
       "3984  146.000000    147.000000  \n",
       "3991  247.000000    214.000000  \n",
       "3997  203.000000    162.000000  \n",
       "4005  203.000000    203.000000  \n",
       "4007  153.000000    141.250000  \n",
       "\n",
       "[3940 rows x 8 columns]"
      ]
     },
     "execution_count": 13,
     "metadata": {},
     "output_type": "execute_result"
    }
   ],
   "source": [
    "customer_journey_df"
   ]
  },
  {
   "cell_type": "code",
   "execution_count": 14,
   "id": "bfcd25f1-01aa-4f89-97bc-a79607aeb2fc",
   "metadata": {},
   "outputs": [],
   "source": [
    "customer_journey_df = customer_journey_df.drop(columns=['avg_duration'],axis=1)"
   ]
  },
  {
   "cell_type": "code",
   "execution_count": 15,
   "id": "6a687314-7a94-44ce-ab20-7d540bdf3f01",
   "metadata": {},
   "outputs": [],
   "source": [
    "customer_journey_df.to_csv(\"Cleaned_customer_journey.csv\",index=False)"
   ]
  },
  {
   "cell_type": "code",
   "execution_count": 16,
   "id": "5009188b-b7dd-4652-8624-7398fe5e92e6",
   "metadata": {},
   "outputs": [
    {
     "data": {
      "text/html": [
       "<div>\n",
       "<style scoped>\n",
       "    .dataframe tbody tr th:only-of-type {\n",
       "        vertical-align: middle;\n",
       "    }\n",
       "\n",
       "    .dataframe tbody tr th {\n",
       "        vertical-align: top;\n",
       "    }\n",
       "\n",
       "    .dataframe thead th {\n",
       "        text-align: right;\n",
       "    }\n",
       "</style>\n",
       "<table border=\"1\" class=\"dataframe\">\n",
       "  <thead>\n",
       "    <tr style=\"text-align: right;\">\n",
       "      <th></th>\n",
       "      <th>JourneyID</th>\n",
       "      <th>CustomerID</th>\n",
       "      <th>ProductId</th>\n",
       "      <th>VisitDate</th>\n",
       "      <th>Stage</th>\n",
       "      <th>Action</th>\n",
       "      <th>Duration</th>\n",
       "    </tr>\n",
       "  </thead>\n",
       "  <tbody>\n",
       "    <tr>\n",
       "      <th>0</th>\n",
       "      <td>1</td>\n",
       "      <td>64</td>\n",
       "      <td>18</td>\n",
       "      <td>2024-06-10</td>\n",
       "      <td>CHECKOUT</td>\n",
       "      <td>Drop-off</td>\n",
       "      <td>132.333333</td>\n",
       "    </tr>\n",
       "    <tr>\n",
       "      <th>1</th>\n",
       "      <td>2</td>\n",
       "      <td>94</td>\n",
       "      <td>11</td>\n",
       "      <td>2025-07-09</td>\n",
       "      <td>CHECKOUT</td>\n",
       "      <td>Drop-off</td>\n",
       "      <td>169.250000</td>\n",
       "    </tr>\n",
       "    <tr>\n",
       "      <th>2</th>\n",
       "      <td>3</td>\n",
       "      <td>34</td>\n",
       "      <td>8</td>\n",
       "      <td>2024-06-14</td>\n",
       "      <td>PRODUCTPAGE</td>\n",
       "      <td>View</td>\n",
       "      <td>235.000000</td>\n",
       "    </tr>\n",
       "    <tr>\n",
       "      <th>3</th>\n",
       "      <td>4</td>\n",
       "      <td>33</td>\n",
       "      <td>18</td>\n",
       "      <td>2025-05-28</td>\n",
       "      <td>CHECKOUT</td>\n",
       "      <td>Drop-off</td>\n",
       "      <td>12.000000</td>\n",
       "    </tr>\n",
       "    <tr>\n",
       "      <th>4</th>\n",
       "      <td>5</td>\n",
       "      <td>91</td>\n",
       "      <td>10</td>\n",
       "      <td>2023-02-11</td>\n",
       "      <td>HOMEPAGE</td>\n",
       "      <td>Click</td>\n",
       "      <td>156.000000</td>\n",
       "    </tr>\n",
       "    <tr>\n",
       "      <th>...</th>\n",
       "      <td>...</td>\n",
       "      <td>...</td>\n",
       "      <td>...</td>\n",
       "      <td>...</td>\n",
       "      <td>...</td>\n",
       "      <td>...</td>\n",
       "      <td>...</td>\n",
       "    </tr>\n",
       "    <tr>\n",
       "      <th>3935</th>\n",
       "      <td>2655</td>\n",
       "      <td>84</td>\n",
       "      <td>4</td>\n",
       "      <td>2023-10-09</td>\n",
       "      <td>HOMEPAGE</td>\n",
       "      <td>View</td>\n",
       "      <td>146.000000</td>\n",
       "    </tr>\n",
       "    <tr>\n",
       "      <th>3936</th>\n",
       "      <td>2653</td>\n",
       "      <td>86</td>\n",
       "      <td>2</td>\n",
       "      <td>2023-06-08</td>\n",
       "      <td>PRODUCTPAGE</td>\n",
       "      <td>Click</td>\n",
       "      <td>247.000000</td>\n",
       "    </tr>\n",
       "    <tr>\n",
       "      <th>3937</th>\n",
       "      <td>97</td>\n",
       "      <td>92</td>\n",
       "      <td>19</td>\n",
       "      <td>2025-05-26</td>\n",
       "      <td>HOMEPAGE</td>\n",
       "      <td>View</td>\n",
       "      <td>203.000000</td>\n",
       "    </tr>\n",
       "    <tr>\n",
       "      <th>3938</th>\n",
       "      <td>3531</td>\n",
       "      <td>70</td>\n",
       "      <td>5</td>\n",
       "      <td>2025-08-04</td>\n",
       "      <td>CHECKOUT</td>\n",
       "      <td>Drop-off</td>\n",
       "      <td>203.000000</td>\n",
       "    </tr>\n",
       "    <tr>\n",
       "      <th>3939</th>\n",
       "      <td>1248</td>\n",
       "      <td>17</td>\n",
       "      <td>8</td>\n",
       "      <td>2023-12-13</td>\n",
       "      <td>HOMEPAGE</td>\n",
       "      <td>Click</td>\n",
       "      <td>153.000000</td>\n",
       "    </tr>\n",
       "  </tbody>\n",
       "</table>\n",
       "<p>3940 rows × 7 columns</p>\n",
       "</div>"
      ],
      "text/plain": [
       "      JourneyID  CustomerID  ProductId  VisitDate        Stage    Action  \\\n",
       "0             1          64         18 2024-06-10     CHECKOUT  Drop-off   \n",
       "1             2          94         11 2025-07-09     CHECKOUT  Drop-off   \n",
       "2             3          34          8 2024-06-14  PRODUCTPAGE      View   \n",
       "3             4          33         18 2025-05-28     CHECKOUT  Drop-off   \n",
       "4             5          91         10 2023-02-11     HOMEPAGE     Click   \n",
       "...         ...         ...        ...        ...          ...       ...   \n",
       "3935       2655          84          4 2023-10-09     HOMEPAGE      View   \n",
       "3936       2653          86          2 2023-06-08  PRODUCTPAGE     Click   \n",
       "3937         97          92         19 2025-05-26     HOMEPAGE      View   \n",
       "3938       3531          70          5 2025-08-04     CHECKOUT  Drop-off   \n",
       "3939       1248          17          8 2023-12-13     HOMEPAGE     Click   \n",
       "\n",
       "        Duration  \n",
       "0     132.333333  \n",
       "1     169.250000  \n",
       "2     235.000000  \n",
       "3      12.000000  \n",
       "4     156.000000  \n",
       "...          ...  \n",
       "3935  146.000000  \n",
       "3936  247.000000  \n",
       "3937  203.000000  \n",
       "3938  203.000000  \n",
       "3939  153.000000  \n",
       "\n",
       "[3940 rows x 7 columns]"
      ]
     },
     "execution_count": 16,
     "metadata": {},
     "output_type": "execute_result"
    }
   ],
   "source": [
    "customer_journey_df.reset_index(drop=True)"
   ]
  },
  {
   "cell_type": "code",
   "execution_count": 17,
   "id": "538e6ade-e509-40f7-9165-89a4c58c46d6",
   "metadata": {},
   "outputs": [
    {
     "name": "stdout",
     "output_type": "stream",
     "text": [
      "<class 'pandas.core.frame.DataFrame'>\n",
      "Index: 3940 entries, 0 to 4007\n",
      "Data columns (total 7 columns):\n",
      " #   Column      Non-Null Count  Dtype         \n",
      "---  ------      --------------  -----         \n",
      " 0   JourneyID   3940 non-null   int64         \n",
      " 1   CustomerID  3940 non-null   int64         \n",
      " 2   ProductId   3940 non-null   int64         \n",
      " 3   VisitDate   3940 non-null   datetime64[ns]\n",
      " 4   Stage       3940 non-null   object        \n",
      " 5   Action      3940 non-null   object        \n",
      " 6   Duration    3909 non-null   float64       \n",
      "dtypes: datetime64[ns](1), float64(1), int64(3), object(2)\n",
      "memory usage: 246.2+ KB\n"
     ]
    }
   ],
   "source": [
    "customer_journey_df.info()"
   ]
  },
  {
   "cell_type": "code",
   "execution_count": 18,
   "id": "ea025fa8-fcea-4d6b-a567-c7b7fda06460",
   "metadata": {},
   "outputs": [
    {
     "data": {
      "text/plain": [
       "(Timestamp('2023-01-01 00:00:00'), Timestamp('2025-12-30 00:00:00'))"
      ]
     },
     "execution_count": 18,
     "metadata": {},
     "output_type": "execute_result"
    }
   ],
   "source": [
    "customer_journey_df[\"VisitDate\"].min(),customer_journey_df[\"VisitDate\"].max()"
   ]
  },
  {
   "cell_type": "code",
   "execution_count": 19,
   "id": "ec0e0a12-5924-4686-b413-ca389c5cf3fd",
   "metadata": {},
   "outputs": [
    {
     "data": {
      "text/plain": [
       "array(['CHECKOUT', 'PRODUCTPAGE', 'HOMEPAGE'], dtype=object)"
      ]
     },
     "execution_count": 19,
     "metadata": {},
     "output_type": "execute_result"
    }
   ],
   "source": [
    "customer_journey_df['Stage'].unique()"
   ]
  },
  {
   "cell_type": "code",
   "execution_count": 20,
   "id": "b7469545-ffc0-4189-ae69-3adae59796e5",
   "metadata": {},
   "outputs": [
    {
     "data": {
      "text/plain": [
       "Stage\n",
       "HOMEPAGE       1741\n",
       "PRODUCTPAGE    1423\n",
       "CHECKOUT        776\n",
       "Name: count, dtype: int64"
      ]
     },
     "execution_count": 20,
     "metadata": {},
     "output_type": "execute_result"
    }
   ],
   "source": [
    "stage_frequency = customer_journey_df['Stage'].value_counts()\n",
    "stage_frequency"
   ]
  },
  {
   "cell_type": "code",
   "execution_count": 21,
   "id": "54f99e97-81a6-4215-bee6-4c2fcbcf33a8",
   "metadata": {},
   "outputs": [
    {
     "data": {
      "text/plain": [
       "<function matplotlib.pyplot.show(close=None, block=None)>"
      ]
     },
     "execution_count": 21,
     "metadata": {},
     "output_type": "execute_result"
    },
    {
     "data": {
      "image/png": "[encoded data removed]",
      "text/plain": [
       "<Figure size 640x480 with 1 Axes>"
      ]
     },
     "metadata": {},
     "output_type": "display_data"
    }
   ],
   "source": [
    "plt.bar(x=stage_frequency.index,height=stage_frequency.values)\n",
    "plt.show"
   ]
  },
  {
   "cell_type": "code",
   "execution_count": 22,
   "id": "d145abc2-11af-4095-bd43-b9c691d38a4d",
   "metadata": {},
   "outputs": [],
   "source": [
    "data_2023 = customer_journey_df[(customer_journey_df.VisitDate>=\"2023-01-01\") & (customer_journey_df.VisitDate<=\"2023-12-31\")]"
   ]
  },
  {
   "cell_type": "code",
   "execution_count": 23,
   "id": "6a551a9b-ef2a-48ef-961f-d2d8a8474cbc",
   "metadata": {},
   "outputs": [],
   "source": [
    "data_2024 = customer_journey_df[(customer_journey_df.VisitDate>=\"2024-01-01\") & (customer_journey_df.VisitDate<=\"2024-12-31\")]"
   ]
  },
  {
   "cell_type": "code",
   "execution_count": 24,
   "id": "6be7e35c-3905-42cc-bdca-4a48ec1af493",
   "metadata": {},
   "outputs": [],
   "source": [
    "data_2025 = customer_journey_df[(customer_journey_df.VisitDate>=\"2025-01-01\") & (customer_journey_df.VisitDate<=\"2025-12-31\")]"
   ]
  },
  {
   "cell_type": "code",
   "execution_count": 33,
   "id": "ecbd40a8-e318-4b2c-97b5-fcce2220cb5a",
   "metadata": {},
   "outputs": [],
   "source": [
    "stage_freq_2023 = data_2023['Stage'].value_counts()"
   ]
  },
  {
   "cell_type": "code",
   "execution_count": 34,
   "id": "f89285cc-3a99-4031-bf62-2d553f4d8209",
   "metadata": {},
   "outputs": [],
   "source": [
    "stage_freq_2024 = data_2024['Stage'].value_counts()"
   ]
  },
  {
   "cell_type": "code",
   "execution_count": 35,
   "id": "d7baa38f-3df0-42eb-8817-2e002c5f031a",
   "metadata": {},
   "outputs": [],
   "source": [
    "stage_freq_2025 = data_2025['Stage'].value_counts()"
   ]
  },
  {
   "cell_type": "code",
   "execution_count": 28,
   "id": "e2826bee-d770-481e-a421-8e8b84aebd0d",
   "metadata": {},
   "outputs": [
    {
     "data": {
      "text/plain": [
       "<BarContainer object of 3 artists>"
      ]
     },
     "execution_count": 28,
     "metadata": {},
     "output_type": "execute_result"
    },
    {
     "data": {
      "image/png": "[encoded data removed]",
      "text/plain": [
       "<Figure size 640x480 with 1 Axes>"
      ]
     },
     "metadata": {},
     "output_type": "display_data"
    }
   ],
   "source": [
    "plt.bar(x=stage_freq_2023.index,height=stage_freq_2023.values)"
   ]
  },
  {
   "cell_type": "code",
   "execution_count": 29,
   "id": "e385a1b6-8b4e-4941-8596-0bdc4f22ef61",
   "metadata": {},
   "outputs": [
    {
     "data": {
      "text/plain": [
       "<BarContainer object of 3 artists>"
      ]
     },
     "execution_count": 29,
     "metadata": {},
     "output_type": "execute_result"
    },
    {
     "data": {
      "image/png": "[encoded data removed]",
      "text/plain": [
       "<Figure size 640x480 with 1 Axes>"
      ]
     },
     "metadata": {},
     "output_type": "display_data"
    }
   ],
   "source": [
    "plt.bar(x=stage_freq_2024.index,height=stage_freq_2024.values)"
   ]
  },
  {
   "cell_type": "code",
   "execution_count": 30,
   "id": "dfe416af-1ba1-4309-8b1d-2ad1c2ed22a1",
   "metadata": {},
   "outputs": [
    {
     "data": {
      "text/plain": [
       "<BarContainer object of 3 artists>"
      ]
     },
     "execution_count": 30,
     "metadata": {},
     "output_type": "execute_result"
    },
    {
     "data": {
      "image/png": "[encoded data removed]",
      "text/plain": [
       "<Figure size 640x480 with 1 Axes>"
      ]
     },
     "metadata": {},
     "output_type": "display_data"
    }
   ],
   "source": [
    "plt.bar(x=stage_freq_2025.index,height=stage_freq_2025.values)"
   ]
  },
  {
   "cell_type": "code",
   "execution_count": 32,
   "id": "2c8017db-7c0e-4d3a-9d08-21c6c321238e",
   "metadata": {},
   "outputs": [
    {
     "data": {
      "image/png": "[encoded data removed]",
      "text/plain": [
       "<Figure size 1800x600 with 3 Axes>"
      ]
     },
     "metadata": {},
     "output_type": "display_data"
    }
   ],
   "source": [
    "fig, axes = plt.subplots(1, 3, figsize=(18, 6))\n",
    "\n",
    "# Year 2023\n",
    "axes[0].bar(stage_freq_2023.index, stage_freq_2023.values, color='royalblue')\n",
    "axes[0].set_title(\"Stage Frequency - 2023\", fontsize=14)\n",
    "axes[0].set_xlabel(\"Stage\", fontsize=12)\n",
    "axes[0].set_ylabel(\"Frequency\", fontsize=12)\n",
    "axes[0].tick_params(axis='x', rotation=45)\n",
    "\n",
    "# Add labels inside bars for 2023\n",
    "for i, v in enumerate(stage_freq_2023.values):\n",
    "    axes[0].text(i, v + 1, str(v), ha='center', fontsize=12, fontweight='bold')\n",
    "\n",
    "# Year 2024\n",
    "axes[1].bar(stage_freq_2024.index, stage_freq_2024.values, color='darkorange')\n",
    "axes[1].set_title(\"Stage Frequency - 2024\", fontsize=14)\n",
    "axes[1].set_xlabel(\"Stage\", fontsize=12)\n",
    "axes[1].tick_params(axis='x', rotation=45)\n",
    "\n",
    "# Add labels inside bars for 2024\n",
    "for i, v in enumerate(stage_freq_2024.values):\n",
    "    axes[1].text(i, v + 1, str(v), ha='center', fontsize=12, fontweight='bold')\n",
    "\n",
    "# Year 2025\n",
    "axes[2].bar(stage_freq_2025.index, stage_freq_2025.values, color='seagreen')\n",
    "axes[2].set_title(\"Stage Frequency - 2025\", fontsize=14)\n",
    "axes[2].set_xlabel(\"Stage\", fontsize=12)\n",
    "axes[2].tick_params(axis='x', rotation=45)\n",
    "\n",
    "# Add labels inside bars for 2025\n",
    "for i, v in enumerate(stage_freq_2025.values):\n",
    "    axes[2].text(i, v + 1, str(v), ha='center', fontsize=12, fontweight='bold')\n",
    "\n",
    "# Adjust layout\n",
    "plt.tight_layout()\n",
    "plt.show()\n"
   ]
  },
  {
   "cell_type": "code",
   "execution_count": null,
   "id": "a5a27107-c91e-41ef-81f0-22fda3395fd7",
   "metadata": {},
   "outputs": [],
   "source": []
  }
 ],
 "metadata": {
  "kernelspec": {
   "display_name": "Python 3 (ipykernel)",
   "language": "python",
   "name": "python3"
  },
  "language_info": {
   "codemirror_mode": {
    "name": "ipython",
    "version": 3
   },
   "file_extension": ".py",
   "mimetype": "text/x-python",
   "name": "python",
   "nbconvert_exporter": "python",
   "pygments_lexer": "ipython3",
   "version": "3.11.7"
  }
 },
 "nbformat": 4,
 "nbformat_minor": 5
}
